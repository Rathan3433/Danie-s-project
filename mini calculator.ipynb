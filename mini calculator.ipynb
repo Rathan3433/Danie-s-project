{
 "cells": [
  {
   "cell_type": "code",
   "execution_count": 1,
   "id": "80f3e310",
   "metadata": {},
   "outputs": [
    {
     "name": "stdout",
     "output_type": "stream",
     "text": [
      "enter the value of a\n",
      "25\n",
      "enter the value of b\n",
      "54\n",
      "enter opertion to perform:add/sub/mul/div\n",
      "mul\n",
      "product of 2 number is : 1350\n"
     ]
    }
   ],
   "source": [
    "def add(a,b):\n",
    "    c=a+b\n",
    "    print(\"The sum of the number is :\",c)\n",
    "def sub(a,b):\n",
    "    c=a-b\n",
    "    print(\"the difference number is:\",c)\n",
    "def mul(a,b):\n",
    "    c=a*b\n",
    "    print(\"product of 2 number is :\",c)\n",
    "def div(a,b):\n",
    "    c=a/b\n",
    "    print(\"divide of two number is :\",c)\n",
    "print(\"enter the value of a\")   \n",
    "a=int(input())\n",
    "print(\"enter the value of b\")\n",
    "b=int(input())\n",
    "print(\"enter opertion to perform:add/sub/mul/div\")\n",
    "operation=input()\n",
    "if(operation==\"add\"):\n",
    "  add(a,b)\n",
    "elif(operation==\"sub\"):\n",
    "  sub(a,b)\n",
    "elif(operation==\"mul\"):\n",
    "  mul(a,b) \n",
    "elif(operation==\"div\"):\n",
    "  div(a,b)\n",
    "        "
   ]
  },
  {
   "cell_type": "code",
   "execution_count": null,
   "id": "b7e85b29",
   "metadata": {},
   "outputs": [],
   "source": []
  }
 ],
 "metadata": {
  "kernelspec": {
   "display_name": "Python 3 (ipykernel)",
   "language": "python",
   "name": "python3"
  },
  "language_info": {
   "codemirror_mode": {
    "name": "ipython",
    "version": 3
   },
   "file_extension": ".py",
   "mimetype": "text/x-python",
   "name": "python",
   "nbconvert_exporter": "python",
   "pygments_lexer": "ipython3",
   "version": "3.11.5"
  }
 },
 "nbformat": 4,
 "nbformat_minor": 5
}
